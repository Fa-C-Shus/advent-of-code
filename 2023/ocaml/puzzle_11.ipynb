{
 "cells": [
  {
   "cell_type": "code",
   "execution_count": 2,
   "metadata": {},
   "outputs": [
    {
     "name": "stdout",
     "output_type": "stream",
     "text": [
      "10292708\n",
      "790194712336\n"
     ]
    }
   ],
   "source": [
    "import sys\n",
    "import re\n",
    "from copy import deepcopy\n",
    "from math import gcd\n",
    "from collections import defaultdict, Counter, deque\n",
    "D = open(\"../data/day-11\").read().strip()\n",
    "L = D.split('\\n')\n",
    "G = [[c for c in row] for row in L]\n",
    "R = len(G)\n",
    "C = len(G[0])\n",
    "for r in range(R):\n",
    "  assert len(G[r])==C\n",
    "\n",
    "EMPTY_R = []\n",
    "r = 0\n",
    "while r<R:\n",
    "  empty = True\n",
    "  for c in range(C):\n",
    "    if G[r][c] == '#':\n",
    "      empty = False\n",
    "  if empty:\n",
    "    EMPTY_R.append(r)\n",
    "    #print('EMPTY R', r)\n",
    "    #G = G[:r]+[G[r]]+G[r:]\n",
    "    #R += 1\n",
    "    #assert len(G)==R\n",
    "    #r += 1\n",
    "  r += 1\n",
    "EMPTY_C = []\n",
    "c = 0\n",
    "while c<C:\n",
    "  empty = True\n",
    "  for r in range(R):\n",
    "    if G[r][c]=='#':\n",
    "      empty = False\n",
    "  if empty:\n",
    "    EMPTY_C.append(c)\n",
    "    #for r in range(R):\n",
    "    #  G[r] = G[r][:c]+[G[r][c]]+G[r][c:]\n",
    "    #C += 1\n",
    "    #c += 1\n",
    "  c += 1\n",
    "\n",
    "GAL = []\n",
    "for r in range(R):\n",
    "  for c in range(C):\n",
    "    if G[r][c]=='#':\n",
    "      GAL.append((r,c))\n",
    "\n",
    "for part2 in [False,True]:\n",
    "  expansion_factor = 10**6-1 if part2 else 2-1\n",
    "  ans = 0\n",
    "  for i,(r,c) in enumerate(GAL):\n",
    "    for j in range(i,len(GAL)):\n",
    "      r2,c2 = GAL[j]\n",
    "      dij = abs(r2-r)+abs(c2-c)\n",
    "      for er in EMPTY_R:\n",
    "        if min(r,r2)<=er<=max(r,r2):\n",
    "          dij += expansion_factor\n",
    "      for ec in EMPTY_C:\n",
    "        if min(c,c2)<=ec<=max(c,c2):\n",
    "          dij += expansion_factor\n",
    "      #print(i+1,j+1,dij,(r,c),(r2,c2))\n",
    "      ans += dij\n",
    "  print(ans)"
   ]
  }
 ],
 "metadata": {
  "kernelspec": {
   "display_name": "base",
   "language": "python",
   "name": "python3"
  },
  "language_info": {
   "codemirror_mode": {
    "name": "ipython",
    "version": 3
   },
   "file_extension": ".py",
   "mimetype": "text/x-python",
   "name": "python",
   "nbconvert_exporter": "python",
   "pygments_lexer": "ipython3",
   "version": "3.9.7"
  }
 },
 "nbformat": 4,
 "nbformat_minor": 2
}
